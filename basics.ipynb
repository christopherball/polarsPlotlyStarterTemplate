{
 "cells": [
  {
   "cell_type": "markdown",
   "metadata": {},
   "source": [
    "### Imports\n"
   ]
  },
  {
   "cell_type": "code",
   "execution_count": 42,
   "metadata": {},
   "outputs": [],
   "source": [
    "import polars as pl\n",
    "from datetime import datetime\n",
    "import numpy as np"
   ]
  },
  {
   "cell_type": "markdown",
   "metadata": {},
   "source": [
    "### Reading & Writing"
   ]
  },
  {
   "cell_type": "markdown",
   "metadata": {},
   "source": [
    "Basic DataFrame"
   ]
  },
  {
   "cell_type": "code",
   "execution_count": 43,
   "metadata": {},
   "outputs": [
    {
     "name": "stdout",
     "output_type": "stream",
     "text": [
      "shape: (3, 3)\n",
      "┌─────────┬─────────────────────┬───────┐\n",
      "│ integer ┆ date                ┆ float │\n",
      "│ ---     ┆ ---                 ┆ ---   │\n",
      "│ i64     ┆ datetime[μs]        ┆ f64   │\n",
      "╞═════════╪═════════════════════╪═══════╡\n",
      "│ 1       ┆ 2022-01-01 00:00:00 ┆ 4.0   │\n",
      "│ 2       ┆ 2022-01-02 00:00:00 ┆ 5.0   │\n",
      "│ 3       ┆ 2022-01-03 00:00:00 ┆ 6.0   │\n",
      "└─────────┴─────────────────────┴───────┘\n"
     ]
    }
   ],
   "source": [
    "df = pl.DataFrame(\n",
    "    {\n",
    "        \"integer\": [1, 2, 3],\n",
    "        \"date\": [\n",
    "            datetime(2022, 1, 1),\n",
    "            datetime(2022, 1, 2),\n",
    "            datetime(2022, 1, 3),\n",
    "        ],\n",
    "        \"float\": [4.0, 5.0, 6.0],\n",
    "    }\n",
    ")\n",
    "print(df)"
   ]
  },
  {
   "cell_type": "markdown",
   "metadata": {},
   "source": [
    "CSV\n"
   ]
  },
  {
   "cell_type": "code",
   "execution_count": 44,
   "metadata": {},
   "outputs": [
    {
     "name": "stdout",
     "output_type": "stream",
     "text": [
      "shape: (3, 3)\n",
      "┌─────────┬─────────────────────┬───────┐\n",
      "│ integer ┆ date                ┆ float │\n",
      "│ ---     ┆ ---                 ┆ ---   │\n",
      "│ i64     ┆ datetime[μs]        ┆ f64   │\n",
      "╞═════════╪═════════════════════╪═══════╡\n",
      "│ 1       ┆ 2022-01-01 00:00:00 ┆ 4.0   │\n",
      "│ 2       ┆ 2022-01-02 00:00:00 ┆ 5.0   │\n",
      "│ 3       ┆ 2022-01-03 00:00:00 ┆ 6.0   │\n",
      "└─────────┴─────────────────────┴───────┘\n"
     ]
    }
   ],
   "source": [
    "df.write_csv(\"data/output.csv\")\n",
    "df_csv = pl.read_csv(\"data/output.csv\", try_parse_dates=True)\n",
    "print(df_csv)"
   ]
  },
  {
   "cell_type": "markdown",
   "metadata": {},
   "source": [
    "JSON\n"
   ]
  },
  {
   "cell_type": "code",
   "execution_count": 45,
   "metadata": {},
   "outputs": [
    {
     "name": "stdout",
     "output_type": "stream",
     "text": [
      "shape: (3, 3)\n",
      "┌─────────┬─────────────────────┬───────┐\n",
      "│ integer ┆ date                ┆ float │\n",
      "│ ---     ┆ ---                 ┆ ---   │\n",
      "│ i64     ┆ datetime[μs]        ┆ f64   │\n",
      "╞═════════╪═════════════════════╪═══════╡\n",
      "│ 1       ┆ 2022-01-01 00:00:00 ┆ 4.0   │\n",
      "│ 2       ┆ 2022-01-02 00:00:00 ┆ 5.0   │\n",
      "│ 3       ┆ 2022-01-03 00:00:00 ┆ 6.0   │\n",
      "└─────────┴─────────────────────┴───────┘\n"
     ]
    }
   ],
   "source": [
    "df.write_json(\"data/output.json\")\n",
    "df_json = pl.read_json(\"data/output.json\")\n",
    "print(df_json)"
   ]
  },
  {
   "cell_type": "markdown",
   "metadata": {},
   "source": [
    "### Expressions"
   ]
  },
  {
   "cell_type": "markdown",
   "metadata": {},
   "source": [
    "Select"
   ]
  },
  {
   "cell_type": "code",
   "execution_count": 46,
   "metadata": {},
   "outputs": [
    {
     "name": "stdout",
     "output_type": "stream",
     "text": [
      "shape: (8, 4)\n",
      "┌─────┬──────────┬─────────────────────┬───────┐\n",
      "│ a   ┆ b        ┆ c                   ┆ d     │\n",
      "│ --- ┆ ---      ┆ ---                 ┆ ---   │\n",
      "│ i64 ┆ f64      ┆ datetime[μs]        ┆ f64   │\n",
      "╞═════╪══════════╪═════════════════════╪═══════╡\n",
      "│ 0   ┆ 0.543947 ┆ 2022-12-01 00:00:00 ┆ 1.0   │\n",
      "│ 1   ┆ 0.568302 ┆ 2022-12-02 00:00:00 ┆ 2.0   │\n",
      "│ 2   ┆ 0.57868  ┆ 2022-12-03 00:00:00 ┆ NaN   │\n",
      "│ 3   ┆ 0.38067  ┆ 2022-12-04 00:00:00 ┆ NaN   │\n",
      "│ 4   ┆ 0.925663 ┆ 2022-12-05 00:00:00 ┆ 0.0   │\n",
      "│ 5   ┆ 0.339975 ┆ 2022-12-06 00:00:00 ┆ -5.0  │\n",
      "│ 6   ┆ 0.234624 ┆ 2022-12-07 00:00:00 ┆ -42.0 │\n",
      "│ 7   ┆ 0.816769 ┆ 2022-12-08 00:00:00 ┆ null  │\n",
      "└─────┴──────────┴─────────────────────┴───────┘\n"
     ]
    }
   ],
   "source": [
    "df = pl.DataFrame(\n",
    "    {\n",
    "        \"a\": range(8),\n",
    "        \"b\": np.random.rand(8),\n",
    "        \"c\": [datetime(2022, 12, x + 1) for x in range(8)],\n",
    "        \"d\": [1.0, 2.0, np.nan, np.nan, 0.0, -5.0, -42.0, None],\n",
    "    }\n",
    ")\n",
    "print(df)"
   ]
  },
  {
   "cell_type": "code",
   "execution_count": 47,
   "metadata": {},
   "outputs": [
    {
     "name": "stdout",
     "output_type": "stream",
     "text": [
      "shape: (8, 2)\n",
      "┌─────┬──────────┐\n",
      "│ a   ┆ b        │\n",
      "│ --- ┆ ---      │\n",
      "│ i64 ┆ f64      │\n",
      "╞═════╪══════════╡\n",
      "│ 0   ┆ 0.543947 │\n",
      "│ 1   ┆ 0.568302 │\n",
      "│ 2   ┆ 0.57868  │\n",
      "│ 3   ┆ 0.38067  │\n",
      "│ 4   ┆ 0.925663 │\n",
      "│ 5   ┆ 0.339975 │\n",
      "│ 6   ┆ 0.234624 │\n",
      "│ 7   ┆ 0.816769 │\n",
      "└─────┴──────────┘\n"
     ]
    }
   ],
   "source": [
    "df.select(pl.col(\"a\", \"b\")).pipe(print)"
   ]
  },
  {
   "cell_type": "code",
   "execution_count": 48,
   "metadata": {},
   "outputs": [
    {
     "name": "stdout",
     "output_type": "stream",
     "text": [
      "shape: (3, 2)\n",
      "┌─────┬──────────┐\n",
      "│ a   ┆ b        │\n",
      "│ --- ┆ ---      │\n",
      "│ i64 ┆ f64      │\n",
      "╞═════╪══════════╡\n",
      "│ 0   ┆ 0.543947 │\n",
      "│ 1   ┆ 0.568302 │\n",
      "│ 2   ┆ 0.57868  │\n",
      "└─────┴──────────┘\n"
     ]
    }
   ],
   "source": [
    "df.select(pl.col(\"a\"), pl.col(\"b\")).limit(3).pipe(print)"
   ]
  },
  {
   "cell_type": "code",
   "execution_count": 49,
   "metadata": {},
   "outputs": [
    {
     "name": "stdout",
     "output_type": "stream",
     "text": [
      "shape: (8, 3)\n",
      "┌──────────┬─────────────────────┬───────┐\n",
      "│ b        ┆ c                   ┆ d     │\n",
      "│ ---      ┆ ---                 ┆ ---   │\n",
      "│ f64      ┆ datetime[μs]        ┆ f64   │\n",
      "╞══════════╪═════════════════════╪═══════╡\n",
      "│ 0.543947 ┆ 2022-12-01 00:00:00 ┆ 1.0   │\n",
      "│ 0.568302 ┆ 2022-12-02 00:00:00 ┆ 2.0   │\n",
      "│ 0.57868  ┆ 2022-12-03 00:00:00 ┆ NaN   │\n",
      "│ 0.38067  ┆ 2022-12-04 00:00:00 ┆ NaN   │\n",
      "│ 0.925663 ┆ 2022-12-05 00:00:00 ┆ 0.0   │\n",
      "│ 0.339975 ┆ 2022-12-06 00:00:00 ┆ -5.0  │\n",
      "│ 0.234624 ┆ 2022-12-07 00:00:00 ┆ -42.0 │\n",
      "│ 0.816769 ┆ 2022-12-08 00:00:00 ┆ null  │\n",
      "└──────────┴─────────────────────┴───────┘\n"
     ]
    }
   ],
   "source": [
    "df.select(pl.exclude(\"a\")).pipe(print)"
   ]
  },
  {
   "cell_type": "markdown",
   "metadata": {},
   "source": [
    "Filter"
   ]
  },
  {
   "cell_type": "code",
   "execution_count": 50,
   "metadata": {},
   "outputs": [
    {
     "name": "stdout",
     "output_type": "stream",
     "text": [
      "shape: (6, 4)\n",
      "┌─────┬──────────┬─────────────────────┬───────┐\n",
      "│ a   ┆ b        ┆ c                   ┆ d     │\n",
      "│ --- ┆ ---      ┆ ---                 ┆ ---   │\n",
      "│ i64 ┆ f64      ┆ datetime[μs]        ┆ f64   │\n",
      "╞═════╪══════════╪═════════════════════╪═══════╡\n",
      "│ 1   ┆ 0.568302 ┆ 2022-12-02 00:00:00 ┆ 2.0   │\n",
      "│ 2   ┆ 0.57868  ┆ 2022-12-03 00:00:00 ┆ NaN   │\n",
      "│ 3   ┆ 0.38067  ┆ 2022-12-04 00:00:00 ┆ NaN   │\n",
      "│ 4   ┆ 0.925663 ┆ 2022-12-05 00:00:00 ┆ 0.0   │\n",
      "│ 5   ┆ 0.339975 ┆ 2022-12-06 00:00:00 ┆ -5.0  │\n",
      "│ 6   ┆ 0.234624 ┆ 2022-12-07 00:00:00 ┆ -42.0 │\n",
      "└─────┴──────────┴─────────────────────┴───────┘\n"
     ]
    }
   ],
   "source": [
    "df.filter(pl.col(\"c\").is_between(datetime(2022, 12, 2), datetime(2022, 12, 7))).pipe(\n",
    "    print\n",
    ")"
   ]
  },
  {
   "cell_type": "code",
   "execution_count": 51,
   "metadata": {},
   "outputs": [
    {
     "name": "stdout",
     "output_type": "stream",
     "text": [
      "shape: (2, 4)\n",
      "┌─────┬──────────┬─────────────────────┬─────┐\n",
      "│ a   ┆ b        ┆ c                   ┆ d   │\n",
      "│ --- ┆ ---      ┆ ---                 ┆ --- │\n",
      "│ i64 ┆ f64      ┆ datetime[μs]        ┆ f64 │\n",
      "╞═════╪══════════╪═════════════════════╪═════╡\n",
      "│ 0   ┆ 0.543947 ┆ 2022-12-01 00:00:00 ┆ 1.0 │\n",
      "│ 1   ┆ 0.568302 ┆ 2022-12-02 00:00:00 ┆ 2.0 │\n",
      "└─────┴──────────┴─────────────────────┴─────┘\n"
     ]
    }
   ],
   "source": [
    "df.filter((pl.col(\"a\") <= 3) & (pl.col(\"d\").is_not_nan())).pipe(print)"
   ]
  },
  {
   "cell_type": "markdown",
   "metadata": {},
   "source": [
    "With_columns"
   ]
  },
  {
   "cell_type": "code",
   "execution_count": 52,
   "metadata": {},
   "outputs": [
    {
     "name": "stdout",
     "output_type": "stream",
     "text": [
      "shape: (8, 6)\n",
      "┌─────┬──────────┬─────────────────────┬───────┬─────────┬───────────┐\n",
      "│ a   ┆ b        ┆ c                   ┆ d     ┆ e       ┆ b+42      │\n",
      "│ --- ┆ ---      ┆ ---                 ┆ ---   ┆ ---     ┆ ---       │\n",
      "│ i64 ┆ f64      ┆ datetime[μs]        ┆ f64   ┆ f64     ┆ f64       │\n",
      "╞═════╪══════════╪═════════════════════╪═══════╪═════════╪═══════════╡\n",
      "│ 0   ┆ 0.543947 ┆ 2022-12-01 00:00:00 ┆ 1.0   ┆ 4.38863 ┆ 42.543947 │\n",
      "│ 1   ┆ 0.568302 ┆ 2022-12-02 00:00:00 ┆ 2.0   ┆ 4.38863 ┆ 42.568302 │\n",
      "│ 2   ┆ 0.57868  ┆ 2022-12-03 00:00:00 ┆ NaN   ┆ 4.38863 ┆ 42.57868  │\n",
      "│ 3   ┆ 0.38067  ┆ 2022-12-04 00:00:00 ┆ NaN   ┆ 4.38863 ┆ 42.38067  │\n",
      "│ 4   ┆ 0.925663 ┆ 2022-12-05 00:00:00 ┆ 0.0   ┆ 4.38863 ┆ 42.925663 │\n",
      "│ 5   ┆ 0.339975 ┆ 2022-12-06 00:00:00 ┆ -5.0  ┆ 4.38863 ┆ 42.339975 │\n",
      "│ 6   ┆ 0.234624 ┆ 2022-12-07 00:00:00 ┆ -42.0 ┆ 4.38863 ┆ 42.234624 │\n",
      "│ 7   ┆ 0.816769 ┆ 2022-12-08 00:00:00 ┆ null  ┆ 4.38863 ┆ 42.816769 │\n",
      "└─────┴──────────┴─────────────────────┴───────┴─────────┴───────────┘\n"
     ]
    }
   ],
   "source": [
    "df.with_columns(pl.col(\"b\").sum().alias(\"e\"), (pl.col(\"b\") + 42).alias(\"b+42\")).pipe(\n",
    "    print\n",
    ")"
   ]
  },
  {
   "cell_type": "markdown",
   "metadata": {},
   "source": [
    "Group by"
   ]
  },
  {
   "cell_type": "code",
   "execution_count": 53,
   "metadata": {},
   "outputs": [
    {
     "name": "stdout",
     "output_type": "stream",
     "text": [
      "shape: (8, 2)\n",
      "┌─────┬─────┐\n",
      "│ x   ┆ y   │\n",
      "│ --- ┆ --- │\n",
      "│ i64 ┆ str │\n",
      "╞═════╪═════╡\n",
      "│ 0   ┆ A   │\n",
      "│ 1   ┆ A   │\n",
      "│ 2   ┆ A   │\n",
      "│ 3   ┆ B   │\n",
      "│ 4   ┆ B   │\n",
      "│ 5   ┆ C   │\n",
      "│ 6   ┆ X   │\n",
      "│ 7   ┆ X   │\n",
      "└─────┴─────┘\n"
     ]
    }
   ],
   "source": [
    "df2 = pl.DataFrame(\n",
    "    {\n",
    "        \"x\": range(8),\n",
    "        \"y\": [\"A\", \"A\", \"A\", \"B\", \"B\", \"C\", \"X\", \"X\"],\n",
    "    }\n",
    ")\n",
    "print(df2)"
   ]
  },
  {
   "cell_type": "code",
   "execution_count": 54,
   "metadata": {},
   "outputs": [
    {
     "name": "stdout",
     "output_type": "stream",
     "text": [
      "shape: (4, 2)\n",
      "┌─────┬───────┐\n",
      "│ y   ┆ count │\n",
      "│ --- ┆ ---   │\n",
      "│ str ┆ u32   │\n",
      "╞═════╪═══════╡\n",
      "│ A   ┆ 3     │\n",
      "│ B   ┆ 2     │\n",
      "│ C   ┆ 1     │\n",
      "│ X   ┆ 2     │\n",
      "└─────┴───────┘\n"
     ]
    }
   ],
   "source": [
    "df2.group_by(\"y\", maintain_order=True).count().pipe(print)"
   ]
  },
  {
   "cell_type": "code",
   "execution_count": 55,
   "metadata": {},
   "outputs": [
    {
     "name": "stdout",
     "output_type": "stream",
     "text": [
      "shape: (4, 3)\n",
      "┌─────┬───────┬─────┐\n",
      "│ y   ┆ count ┆ sum │\n",
      "│ --- ┆ ---   ┆ --- │\n",
      "│ str ┆ u32   ┆ i64 │\n",
      "╞═════╪═══════╪═════╡\n",
      "│ A   ┆ 3     ┆ 3   │\n",
      "│ B   ┆ 2     ┆ 7   │\n",
      "│ C   ┆ 1     ┆ 5   │\n",
      "│ X   ┆ 2     ┆ 13  │\n",
      "└─────┴───────┴─────┘\n"
     ]
    }
   ],
   "source": [
    "df2.group_by(\"y\", maintain_order=True).agg(\n",
    "    pl.col(\"*\").count().alias(\"count\"),\n",
    "    pl.col(\"*\").sum().alias(\"sum\"),\n",
    ").pipe(print)"
   ]
  },
  {
   "cell_type": "markdown",
   "metadata": {},
   "source": [
    "Combining Operations"
   ]
  },
  {
   "cell_type": "code",
   "execution_count": 56,
   "metadata": {},
   "outputs": [
    {
     "name": "stdout",
     "output_type": "stream",
     "text": [
      "shape: (8, 3)\n",
      "┌─────┬──────────┬──────────┐\n",
      "│ a   ┆ b        ┆ a * b    │\n",
      "│ --- ┆ ---      ┆ ---      │\n",
      "│ i64 ┆ f64      ┆ f64      │\n",
      "╞═════╪══════════╪══════════╡\n",
      "│ 0   ┆ 0.543947 ┆ 0.0      │\n",
      "│ 1   ┆ 0.568302 ┆ 0.568302 │\n",
      "│ 2   ┆ 0.57868  ┆ 1.157359 │\n",
      "│ 3   ┆ 0.38067  ┆ 1.142009 │\n",
      "│ 4   ┆ 0.925663 ┆ 3.702654 │\n",
      "│ 5   ┆ 0.339975 ┆ 1.699875 │\n",
      "│ 6   ┆ 0.234624 ┆ 1.407746 │\n",
      "│ 7   ┆ 0.816769 ┆ 5.71738  │\n",
      "└─────┴──────────┴──────────┘\n"
     ]
    }
   ],
   "source": [
    "df_x = df.with_columns((pl.col(\"a\") * pl.col(\"b\")).alias(\"a * b\")).select(\n",
    "    pl.all().exclude([\"c\", \"d\"])\n",
    ")\n",
    "print(df_x)"
   ]
  },
  {
   "cell_type": "code",
   "execution_count": 57,
   "metadata": {},
   "outputs": [
    {
     "name": "stdout",
     "output_type": "stream",
     "text": [
      "shape: (8, 4)\n",
      "┌─────┬──────────┬─────────────────────┬──────────┐\n",
      "│ a   ┆ b        ┆ c                   ┆ a * b    │\n",
      "│ --- ┆ ---      ┆ ---                 ┆ ---      │\n",
      "│ i64 ┆ f64      ┆ datetime[μs]        ┆ f64      │\n",
      "╞═════╪══════════╪═════════════════════╪══════════╡\n",
      "│ 0   ┆ 0.543947 ┆ 2022-12-01 00:00:00 ┆ 0.0      │\n",
      "│ 1   ┆ 0.568302 ┆ 2022-12-02 00:00:00 ┆ 0.568302 │\n",
      "│ 2   ┆ 0.57868  ┆ 2022-12-03 00:00:00 ┆ 1.157359 │\n",
      "│ 3   ┆ 0.38067  ┆ 2022-12-04 00:00:00 ┆ 1.142009 │\n",
      "│ 4   ┆ 0.925663 ┆ 2022-12-05 00:00:00 ┆ 3.702654 │\n",
      "│ 5   ┆ 0.339975 ┆ 2022-12-06 00:00:00 ┆ 1.699875 │\n",
      "│ 6   ┆ 0.234624 ┆ 2022-12-07 00:00:00 ┆ 1.407746 │\n",
      "│ 7   ┆ 0.816769 ┆ 2022-12-08 00:00:00 ┆ 5.71738  │\n",
      "└─────┴──────────┴─────────────────────┴──────────┘\n"
     ]
    }
   ],
   "source": [
    "df_y = df.with_columns((pl.col(\"a\") * pl.col(\"b\")).alias(\"a * b\")).select(\n",
    "    pl.all().exclude(\"d\")\n",
    ")\n",
    "print(df_y)"
   ]
  },
  {
   "cell_type": "markdown",
   "metadata": {},
   "source": [
    "### Combining DataFrames"
   ]
  },
  {
   "cell_type": "markdown",
   "metadata": {},
   "source": [
    "Join"
   ]
  },
  {
   "cell_type": "code",
   "execution_count": 58,
   "metadata": {},
   "outputs": [
    {
     "name": "stdout",
     "output_type": "stream",
     "text": [
      "shape: (8, 4)\n",
      "┌─────┬──────────┬───────┬─────┐\n",
      "│ a   ┆ b        ┆ d     ┆ y   │\n",
      "│ --- ┆ ---      ┆ ---   ┆ --- │\n",
      "│ i64 ┆ f64      ┆ f64   ┆ str │\n",
      "╞═════╪══════════╪═══════╪═════╡\n",
      "│ 0   ┆ 0.867441 ┆ 1.0   ┆ A   │\n",
      "│ 1   ┆ 0.214432 ┆ 2.0   ┆ A   │\n",
      "│ 2   ┆ 0.139914 ┆ NaN   ┆ A   │\n",
      "│ 3   ┆ 0.577428 ┆ NaN   ┆ B   │\n",
      "│ 4   ┆ 0.388637 ┆ 0.0   ┆ B   │\n",
      "│ 5   ┆ 0.222313 ┆ -5.0  ┆ C   │\n",
      "│ 6   ┆ 0.035902 ┆ -42.0 ┆ X   │\n",
      "│ 7   ┆ 0.796662 ┆ null  ┆ X   │\n",
      "└─────┴──────────┴───────┴─────┘\n"
     ]
    }
   ],
   "source": [
    "df = pl.DataFrame(\n",
    "    {\n",
    "        \"a\": range(8),\n",
    "        \"b\": np.random.rand(8),\n",
    "        \"d\": [1, 2.0, float(\"nan\"), float(\"nan\"), 0, -5, -42, None],\n",
    "    }\n",
    ")\n",
    "\n",
    "df2 = pl.DataFrame(\n",
    "    {\n",
    "        \"x\": range(8),\n",
    "        \"y\": [\"A\", \"A\", \"A\", \"B\", \"B\", \"C\", \"X\", \"X\"],\n",
    "    }\n",
    ")\n",
    "joined = df.join(df2, left_on=\"a\", right_on=\"x\")\n",
    "print(joined)"
   ]
  },
  {
   "cell_type": "markdown",
   "metadata": {},
   "source": [
    "Concat"
   ]
  },
  {
   "cell_type": "code",
   "execution_count": 59,
   "metadata": {},
   "outputs": [
    {
     "name": "stdout",
     "output_type": "stream",
     "text": [
      "shape: (8, 3)\n",
      "┌─────┬──────────┬───────┐\n",
      "│ a   ┆ b        ┆ d     │\n",
      "│ --- ┆ ---      ┆ ---   │\n",
      "│ i64 ┆ f64      ┆ f64   │\n",
      "╞═════╪══════════╪═══════╡\n",
      "│ 0   ┆ 0.867441 ┆ 1.0   │\n",
      "│ 1   ┆ 0.214432 ┆ 2.0   │\n",
      "│ 2   ┆ 0.139914 ┆ NaN   │\n",
      "│ 3   ┆ 0.577428 ┆ NaN   │\n",
      "│ 4   ┆ 0.388637 ┆ 0.0   │\n",
      "│ 5   ┆ 0.222313 ┆ -5.0  │\n",
      "│ 6   ┆ 0.035902 ┆ -42.0 │\n",
      "│ 7   ┆ 0.796662 ┆ null  │\n",
      "└─────┴──────────┴───────┘\n",
      "shape: (8, 2)\n",
      "┌─────┬─────┐\n",
      "│ x   ┆ y   │\n",
      "│ --- ┆ --- │\n",
      "│ i64 ┆ str │\n",
      "╞═════╪═════╡\n",
      "│ 0   ┆ A   │\n",
      "│ 1   ┆ A   │\n",
      "│ 2   ┆ A   │\n",
      "│ 3   ┆ B   │\n",
      "│ 4   ┆ B   │\n",
      "│ 5   ┆ C   │\n",
      "│ 6   ┆ X   │\n",
      "│ 7   ┆ X   │\n",
      "└─────┴─────┘\n"
     ]
    }
   ],
   "source": [
    "print(df, df2, sep=\"\\n\")"
   ]
  },
  {
   "cell_type": "code",
   "execution_count": 60,
   "metadata": {},
   "outputs": [
    {
     "name": "stdout",
     "output_type": "stream",
     "text": [
      "shape: (8, 5)\n",
      "┌─────┬──────────┬───────┬─────┬─────┐\n",
      "│ a   ┆ b        ┆ d     ┆ x   ┆ y   │\n",
      "│ --- ┆ ---      ┆ ---   ┆ --- ┆ --- │\n",
      "│ i64 ┆ f64      ┆ f64   ┆ i64 ┆ str │\n",
      "╞═════╪══════════╪═══════╪═════╪═════╡\n",
      "│ 0   ┆ 0.867441 ┆ 1.0   ┆ 0   ┆ A   │\n",
      "│ 1   ┆ 0.214432 ┆ 2.0   ┆ 1   ┆ A   │\n",
      "│ 2   ┆ 0.139914 ┆ NaN   ┆ 2   ┆ A   │\n",
      "│ 3   ┆ 0.577428 ┆ NaN   ┆ 3   ┆ B   │\n",
      "│ 4   ┆ 0.388637 ┆ 0.0   ┆ 4   ┆ B   │\n",
      "│ 5   ┆ 0.222313 ┆ -5.0  ┆ 5   ┆ C   │\n",
      "│ 6   ┆ 0.035902 ┆ -42.0 ┆ 6   ┆ X   │\n",
      "│ 7   ┆ 0.796662 ┆ null  ┆ 7   ┆ X   │\n",
      "└─────┴──────────┴───────┴─────┴─────┘\n"
     ]
    }
   ],
   "source": [
    "stacked = df.hstack(df2)\n",
    "print(stacked)"
   ]
  }
 ],
 "metadata": {
  "kernelspec": {
   "display_name": ".venv",
   "language": "python",
   "name": "python3"
  },
  "language_info": {
   "codemirror_mode": {
    "name": "ipython",
    "version": 3
   },
   "file_extension": ".py",
   "mimetype": "text/x-python",
   "name": "python",
   "nbconvert_exporter": "python",
   "pygments_lexer": "ipython3",
   "version": "3.9.6"
  }
 },
 "nbformat": 4,
 "nbformat_minor": 2
}
